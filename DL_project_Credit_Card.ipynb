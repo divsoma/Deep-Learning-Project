{
  "nbformat": 4,
  "nbformat_minor": 0,
  "metadata": {
    "colab": {
      "name": "DL project Credit Card.ipynb",
      "provenance": []
    },
    "kernelspec": {
      "name": "python3",
      "display_name": "Python 3"
    },
    "language_info": {
      "name": "python"
    }
  },
  "cells": [
    {
      "cell_type": "code",
      "metadata": {
        "id": "urNs2-RjxIvf"
      },
      "source": [
        "import numpy as np\n",
        "import pandas as pd\n",
        "import matplotlib.pyplot as plt\n",
        "import seaborn as sns\n",
        "\n",
        "from tensorflow.keras.models import Sequential\n",
        "from tensorflow.keras.layers import Dense\n",
        "\n",
        "from sklearn.preprocessing import StandardScaler\n",
        "from sklearn.model_selection import train_test_split\n",
        "from sklearn.decomposition import PCA"
      ],
      "execution_count": null,
      "outputs": []
    },
    {
      "cell_type": "code",
      "metadata": {
        "id": "3wNOta4_3V6M"
      },
      "source": [
        "df=pd.read_csv(\"/content/creditcard.csv\")"
      ],
      "execution_count": null,
      "outputs": []
    },
    {
      "cell_type": "code",
      "metadata": {
        "colab": {
          "base_uri": "https://localhost:8080/",
          "height": 223
        },
        "id": "2ASbAPQC31jb",
        "outputId": "4972a734-31a1-4501-e4d5-2f75421f6974"
      },
      "source": [
        "df.head()"
      ],
      "execution_count": null,
      "outputs": [
        {
          "output_type": "execute_result",
          "data": {
            "text/html": [
              "<div>\n",
              "<style scoped>\n",
              "    .dataframe tbody tr th:only-of-type {\n",
              "        vertical-align: middle;\n",
              "    }\n",
              "\n",
              "    .dataframe tbody tr th {\n",
              "        vertical-align: top;\n",
              "    }\n",
              "\n",
              "    .dataframe thead th {\n",
              "        text-align: right;\n",
              "    }\n",
              "</style>\n",
              "<table border=\"1\" class=\"dataframe\">\n",
              "  <thead>\n",
              "    <tr style=\"text-align: right;\">\n",
              "      <th></th>\n",
              "      <th>Time</th>\n",
              "      <th>V1</th>\n",
              "      <th>V2</th>\n",
              "      <th>V3</th>\n",
              "      <th>V4</th>\n",
              "      <th>V5</th>\n",
              "      <th>V6</th>\n",
              "      <th>V7</th>\n",
              "      <th>V8</th>\n",
              "      <th>V9</th>\n",
              "      <th>V10</th>\n",
              "      <th>V11</th>\n",
              "      <th>V12</th>\n",
              "      <th>V13</th>\n",
              "      <th>V14</th>\n",
              "      <th>V15</th>\n",
              "      <th>V16</th>\n",
              "      <th>V17</th>\n",
              "      <th>V18</th>\n",
              "      <th>V19</th>\n",
              "      <th>V20</th>\n",
              "      <th>V21</th>\n",
              "      <th>V22</th>\n",
              "      <th>V23</th>\n",
              "      <th>V24</th>\n",
              "      <th>V25</th>\n",
              "      <th>V26</th>\n",
              "      <th>V27</th>\n",
              "      <th>V28</th>\n",
              "      <th>Amount</th>\n",
              "      <th>Class</th>\n",
              "    </tr>\n",
              "  </thead>\n",
              "  <tbody>\n",
              "    <tr>\n",
              "      <th>0</th>\n",
              "      <td>0.0</td>\n",
              "      <td>-1.359807</td>\n",
              "      <td>-0.072781</td>\n",
              "      <td>2.536347</td>\n",
              "      <td>1.378155</td>\n",
              "      <td>-0.338321</td>\n",
              "      <td>0.462388</td>\n",
              "      <td>0.239599</td>\n",
              "      <td>0.098698</td>\n",
              "      <td>0.363787</td>\n",
              "      <td>0.090794</td>\n",
              "      <td>-0.551600</td>\n",
              "      <td>-0.617801</td>\n",
              "      <td>-0.991390</td>\n",
              "      <td>-0.311169</td>\n",
              "      <td>1.468177</td>\n",
              "      <td>-0.470401</td>\n",
              "      <td>0.207971</td>\n",
              "      <td>0.025791</td>\n",
              "      <td>0.403993</td>\n",
              "      <td>0.251412</td>\n",
              "      <td>-0.018307</td>\n",
              "      <td>0.277838</td>\n",
              "      <td>-0.110474</td>\n",
              "      <td>0.066928</td>\n",
              "      <td>0.128539</td>\n",
              "      <td>-0.189115</td>\n",
              "      <td>0.133558</td>\n",
              "      <td>-0.021053</td>\n",
              "      <td>149.62</td>\n",
              "      <td>0.0</td>\n",
              "    </tr>\n",
              "    <tr>\n",
              "      <th>1</th>\n",
              "      <td>0.0</td>\n",
              "      <td>1.191857</td>\n",
              "      <td>0.266151</td>\n",
              "      <td>0.166480</td>\n",
              "      <td>0.448154</td>\n",
              "      <td>0.060018</td>\n",
              "      <td>-0.082361</td>\n",
              "      <td>-0.078803</td>\n",
              "      <td>0.085102</td>\n",
              "      <td>-0.255425</td>\n",
              "      <td>-0.166974</td>\n",
              "      <td>1.612727</td>\n",
              "      <td>1.065235</td>\n",
              "      <td>0.489095</td>\n",
              "      <td>-0.143772</td>\n",
              "      <td>0.635558</td>\n",
              "      <td>0.463917</td>\n",
              "      <td>-0.114805</td>\n",
              "      <td>-0.183361</td>\n",
              "      <td>-0.145783</td>\n",
              "      <td>-0.069083</td>\n",
              "      <td>-0.225775</td>\n",
              "      <td>-0.638672</td>\n",
              "      <td>0.101288</td>\n",
              "      <td>-0.339846</td>\n",
              "      <td>0.167170</td>\n",
              "      <td>0.125895</td>\n",
              "      <td>-0.008983</td>\n",
              "      <td>0.014724</td>\n",
              "      <td>2.69</td>\n",
              "      <td>0.0</td>\n",
              "    </tr>\n",
              "    <tr>\n",
              "      <th>2</th>\n",
              "      <td>1.0</td>\n",
              "      <td>-1.358354</td>\n",
              "      <td>-1.340163</td>\n",
              "      <td>1.773209</td>\n",
              "      <td>0.379780</td>\n",
              "      <td>-0.503198</td>\n",
              "      <td>1.800499</td>\n",
              "      <td>0.791461</td>\n",
              "      <td>0.247676</td>\n",
              "      <td>-1.514654</td>\n",
              "      <td>0.207643</td>\n",
              "      <td>0.624501</td>\n",
              "      <td>0.066084</td>\n",
              "      <td>0.717293</td>\n",
              "      <td>-0.165946</td>\n",
              "      <td>2.345865</td>\n",
              "      <td>-2.890083</td>\n",
              "      <td>1.109969</td>\n",
              "      <td>-0.121359</td>\n",
              "      <td>-2.261857</td>\n",
              "      <td>0.524980</td>\n",
              "      <td>0.247998</td>\n",
              "      <td>0.771679</td>\n",
              "      <td>0.909412</td>\n",
              "      <td>-0.689281</td>\n",
              "      <td>-0.327642</td>\n",
              "      <td>-0.139097</td>\n",
              "      <td>-0.055353</td>\n",
              "      <td>-0.059752</td>\n",
              "      <td>378.66</td>\n",
              "      <td>0.0</td>\n",
              "    </tr>\n",
              "    <tr>\n",
              "      <th>3</th>\n",
              "      <td>1.0</td>\n",
              "      <td>-0.966272</td>\n",
              "      <td>-0.185226</td>\n",
              "      <td>1.792993</td>\n",
              "      <td>-0.863291</td>\n",
              "      <td>-0.010309</td>\n",
              "      <td>1.247203</td>\n",
              "      <td>0.237609</td>\n",
              "      <td>0.377436</td>\n",
              "      <td>-1.387024</td>\n",
              "      <td>-0.054952</td>\n",
              "      <td>-0.226487</td>\n",
              "      <td>0.178228</td>\n",
              "      <td>0.507757</td>\n",
              "      <td>-0.287924</td>\n",
              "      <td>-0.631418</td>\n",
              "      <td>-1.059647</td>\n",
              "      <td>-0.684093</td>\n",
              "      <td>1.965775</td>\n",
              "      <td>-1.232622</td>\n",
              "      <td>-0.208038</td>\n",
              "      <td>-0.108300</td>\n",
              "      <td>0.005274</td>\n",
              "      <td>-0.190321</td>\n",
              "      <td>-1.175575</td>\n",
              "      <td>0.647376</td>\n",
              "      <td>-0.221929</td>\n",
              "      <td>0.062723</td>\n",
              "      <td>0.061458</td>\n",
              "      <td>123.50</td>\n",
              "      <td>0.0</td>\n",
              "    </tr>\n",
              "    <tr>\n",
              "      <th>4</th>\n",
              "      <td>2.0</td>\n",
              "      <td>-1.158233</td>\n",
              "      <td>0.877737</td>\n",
              "      <td>1.548718</td>\n",
              "      <td>0.403034</td>\n",
              "      <td>-0.407193</td>\n",
              "      <td>0.095921</td>\n",
              "      <td>0.592941</td>\n",
              "      <td>-0.270533</td>\n",
              "      <td>0.817739</td>\n",
              "      <td>0.753074</td>\n",
              "      <td>-0.822843</td>\n",
              "      <td>0.538196</td>\n",
              "      <td>1.345852</td>\n",
              "      <td>-1.119670</td>\n",
              "      <td>0.175121</td>\n",
              "      <td>-0.451449</td>\n",
              "      <td>-0.237033</td>\n",
              "      <td>-0.038195</td>\n",
              "      <td>0.803487</td>\n",
              "      <td>0.408542</td>\n",
              "      <td>-0.009431</td>\n",
              "      <td>0.798278</td>\n",
              "      <td>-0.137458</td>\n",
              "      <td>0.141267</td>\n",
              "      <td>-0.206010</td>\n",
              "      <td>0.502292</td>\n",
              "      <td>0.219422</td>\n",
              "      <td>0.215153</td>\n",
              "      <td>69.99</td>\n",
              "      <td>0.0</td>\n",
              "    </tr>\n",
              "  </tbody>\n",
              "</table>\n",
              "</div>"
            ],
            "text/plain": [
              "   Time        V1        V2        V3  ...       V27       V28  Amount  Class\n",
              "0   0.0 -1.359807 -0.072781  2.536347  ...  0.133558 -0.021053  149.62    0.0\n",
              "1   0.0  1.191857  0.266151  0.166480  ... -0.008983  0.014724    2.69    0.0\n",
              "2   1.0 -1.358354 -1.340163  1.773209  ... -0.055353 -0.059752  378.66    0.0\n",
              "3   1.0 -0.966272 -0.185226  1.792993  ...  0.062723  0.061458  123.50    0.0\n",
              "4   2.0 -1.158233  0.877737  1.548718  ...  0.219422  0.215153   69.99    0.0\n",
              "\n",
              "[5 rows x 31 columns]"
            ]
          },
          "metadata": {},
          "execution_count": 3
        }
      ]
    },
    {
      "cell_type": "code",
      "metadata": {
        "colab": {
          "base_uri": "https://localhost:8080/"
        },
        "id": "I9YxyIHN33BH",
        "outputId": "4ab97d7d-2791-4677-da73-02c5b52b4697"
      },
      "source": [
        "df.info()"
      ],
      "execution_count": null,
      "outputs": [
        {
          "output_type": "stream",
          "name": "stdout",
          "text": [
            "<class 'pandas.core.frame.DataFrame'>\n",
            "RangeIndex: 265360 entries, 0 to 265359\n",
            "Data columns (total 31 columns):\n",
            " #   Column  Non-Null Count   Dtype  \n",
            "---  ------  --------------   -----  \n",
            " 0   Time    265360 non-null  float64\n",
            " 1   V1      265360 non-null  float64\n",
            " 2   V2      265360 non-null  float64\n",
            " 3   V3      265360 non-null  float64\n",
            " 4   V4      265360 non-null  float64\n",
            " 5   V5      265359 non-null  float64\n",
            " 6   V6      265359 non-null  float64\n",
            " 7   V7      265359 non-null  float64\n",
            " 8   V8      265359 non-null  float64\n",
            " 9   V9      265359 non-null  float64\n",
            " 10  V10     265359 non-null  float64\n",
            " 11  V11     265359 non-null  float64\n",
            " 12  V12     265359 non-null  float64\n",
            " 13  V13     265359 non-null  float64\n",
            " 14  V14     265359 non-null  float64\n",
            " 15  V15     265359 non-null  float64\n",
            " 16  V16     265359 non-null  float64\n",
            " 17  V17     265359 non-null  float64\n",
            " 18  V18     265359 non-null  float64\n",
            " 19  V19     265359 non-null  float64\n",
            " 20  V20     265359 non-null  float64\n",
            " 21  V21     265359 non-null  float64\n",
            " 22  V22     265359 non-null  float64\n",
            " 23  V23     265359 non-null  float64\n",
            " 24  V24     265359 non-null  float64\n",
            " 25  V25     265359 non-null  float64\n",
            " 26  V26     265359 non-null  float64\n",
            " 27  V27     265359 non-null  float64\n",
            " 28  V28     265359 non-null  float64\n",
            " 29  Amount  265359 non-null  float64\n",
            " 30  Class   265359 non-null  float64\n",
            "dtypes: float64(31)\n",
            "memory usage: 62.8 MB\n"
          ]
        }
      ]
    },
    {
      "cell_type": "code",
      "metadata": {
        "colab": {
          "base_uri": "https://localhost:8080/",
          "height": 315
        },
        "id": "OdIC5APg4PQy",
        "outputId": "30d7793d-58fe-4f10-df8e-ac197ad909e1"
      },
      "source": [
        "df.describe()"
      ],
      "execution_count": null,
      "outputs": [
        {
          "output_type": "execute_result",
          "data": {
            "text/html": [
              "<div>\n",
              "<style scoped>\n",
              "    .dataframe tbody tr th:only-of-type {\n",
              "        vertical-align: middle;\n",
              "    }\n",
              "\n",
              "    .dataframe tbody tr th {\n",
              "        vertical-align: top;\n",
              "    }\n",
              "\n",
              "    .dataframe thead th {\n",
              "        text-align: right;\n",
              "    }\n",
              "</style>\n",
              "<table border=\"1\" class=\"dataframe\">\n",
              "  <thead>\n",
              "    <tr style=\"text-align: right;\">\n",
              "      <th></th>\n",
              "      <th>Time</th>\n",
              "      <th>V1</th>\n",
              "      <th>V2</th>\n",
              "      <th>V3</th>\n",
              "      <th>V4</th>\n",
              "      <th>V5</th>\n",
              "      <th>V6</th>\n",
              "      <th>V7</th>\n",
              "      <th>V8</th>\n",
              "      <th>V9</th>\n",
              "      <th>V10</th>\n",
              "      <th>V11</th>\n",
              "      <th>V12</th>\n",
              "      <th>V13</th>\n",
              "      <th>V14</th>\n",
              "      <th>V15</th>\n",
              "      <th>V16</th>\n",
              "      <th>V17</th>\n",
              "      <th>V18</th>\n",
              "      <th>V19</th>\n",
              "      <th>V20</th>\n",
              "      <th>V21</th>\n",
              "      <th>V22</th>\n",
              "      <th>V23</th>\n",
              "      <th>V24</th>\n",
              "      <th>V25</th>\n",
              "      <th>V26</th>\n",
              "      <th>V27</th>\n",
              "      <th>V28</th>\n",
              "      <th>Amount</th>\n",
              "      <th>Class</th>\n",
              "    </tr>\n",
              "  </thead>\n",
              "  <tbody>\n",
              "    <tr>\n",
              "      <th>count</th>\n",
              "      <td>265360.000000</td>\n",
              "      <td>265360.000000</td>\n",
              "      <td>265360.000000</td>\n",
              "      <td>265360.000000</td>\n",
              "      <td>265360.000000</td>\n",
              "      <td>265359.000000</td>\n",
              "      <td>265359.000000</td>\n",
              "      <td>265359.000000</td>\n",
              "      <td>265359.000000</td>\n",
              "      <td>265359.000000</td>\n",
              "      <td>265359.000000</td>\n",
              "      <td>265359.000000</td>\n",
              "      <td>265359.000000</td>\n",
              "      <td>265359.000000</td>\n",
              "      <td>265359.000000</td>\n",
              "      <td>265359.000000</td>\n",
              "      <td>265359.000000</td>\n",
              "      <td>265359.000000</td>\n",
              "      <td>265359.000000</td>\n",
              "      <td>265359.000000</td>\n",
              "      <td>265359.000000</td>\n",
              "      <td>265359.000000</td>\n",
              "      <td>265359.000000</td>\n",
              "      <td>265359.000000</td>\n",
              "      <td>265359.000000</td>\n",
              "      <td>265359.000000</td>\n",
              "      <td>265359.000000</td>\n",
              "      <td>265359.000000</td>\n",
              "      <td>265359.000000</td>\n",
              "      <td>265359.00000</td>\n",
              "      <td>265359.000000</td>\n",
              "    </tr>\n",
              "    <tr>\n",
              "      <th>mean</th>\n",
              "      <td>89547.470105</td>\n",
              "      <td>-0.015027</td>\n",
              "      <td>-0.015417</td>\n",
              "      <td>0.053004</td>\n",
              "      <td>0.012115</td>\n",
              "      <td>-0.021416</td>\n",
              "      <td>0.009235</td>\n",
              "      <td>-0.009290</td>\n",
              "      <td>0.000046</td>\n",
              "      <td>-0.000200</td>\n",
              "      <td>0.001155</td>\n",
              "      <td>0.020828</td>\n",
              "      <td>-0.017382</td>\n",
              "      <td>0.002359</td>\n",
              "      <td>0.008090</td>\n",
              "      <td>0.013179</td>\n",
              "      <td>-0.001761</td>\n",
              "      <td>0.005488</td>\n",
              "      <td>-0.008829</td>\n",
              "      <td>-0.002015</td>\n",
              "      <td>0.001975</td>\n",
              "      <td>-0.000169</td>\n",
              "      <td>-0.005257</td>\n",
              "      <td>-0.002878</td>\n",
              "      <td>0.001353</td>\n",
              "      <td>0.011097</td>\n",
              "      <td>0.001435</td>\n",
              "      <td>-0.000543</td>\n",
              "      <td>0.000771</td>\n",
              "      <td>89.79314</td>\n",
              "      <td>0.001809</td>\n",
              "    </tr>\n",
              "    <tr>\n",
              "      <th>std</th>\n",
              "      <td>44872.212760</td>\n",
              "      <td>1.959484</td>\n",
              "      <td>1.659608</td>\n",
              "      <td>1.510432</td>\n",
              "      <td>1.416238</td>\n",
              "      <td>1.370226</td>\n",
              "      <td>1.325277</td>\n",
              "      <td>1.222763</td>\n",
              "      <td>1.194419</td>\n",
              "      <td>1.106003</td>\n",
              "      <td>1.087662</td>\n",
              "      <td>1.025639</td>\n",
              "      <td>1.017120</td>\n",
              "      <td>1.003730</td>\n",
              "      <td>0.963404</td>\n",
              "      <td>0.921733</td>\n",
              "      <td>0.880773</td>\n",
              "      <td>0.856366</td>\n",
              "      <td>0.841064</td>\n",
              "      <td>0.816261</td>\n",
              "      <td>0.775683</td>\n",
              "      <td>0.738277</td>\n",
              "      <td>0.721352</td>\n",
              "      <td>0.630898</td>\n",
              "      <td>0.605937</td>\n",
              "      <td>0.517749</td>\n",
              "      <td>0.483663</td>\n",
              "      <td>0.400250</td>\n",
              "      <td>0.333751</td>\n",
              "      <td>248.80367</td>\n",
              "      <td>0.042492</td>\n",
              "    </tr>\n",
              "    <tr>\n",
              "      <th>min</th>\n",
              "      <td>0.000000</td>\n",
              "      <td>-56.407510</td>\n",
              "      <td>-72.715728</td>\n",
              "      <td>-33.680984</td>\n",
              "      <td>-5.683171</td>\n",
              "      <td>-42.147898</td>\n",
              "      <td>-26.160506</td>\n",
              "      <td>-43.557242</td>\n",
              "      <td>-73.216718</td>\n",
              "      <td>-13.434066</td>\n",
              "      <td>-24.588262</td>\n",
              "      <td>-4.797473</td>\n",
              "      <td>-18.683715</td>\n",
              "      <td>-5.791881</td>\n",
              "      <td>-19.214325</td>\n",
              "      <td>-4.498945</td>\n",
              "      <td>-14.129855</td>\n",
              "      <td>-25.162799</td>\n",
              "      <td>-9.498746</td>\n",
              "      <td>-7.213527</td>\n",
              "      <td>-28.009635</td>\n",
              "      <td>-34.830382</td>\n",
              "      <td>-10.933144</td>\n",
              "      <td>-44.807735</td>\n",
              "      <td>-2.836627</td>\n",
              "      <td>-10.295397</td>\n",
              "      <td>-2.604551</td>\n",
              "      <td>-22.565679</td>\n",
              "      <td>-11.710896</td>\n",
              "      <td>0.00000</td>\n",
              "      <td>0.000000</td>\n",
              "    </tr>\n",
              "    <tr>\n",
              "      <th>25%</th>\n",
              "      <td>52001.000000</td>\n",
              "      <td>-0.926028</td>\n",
              "      <td>-0.608306</td>\n",
              "      <td>-0.802689</td>\n",
              "      <td>-0.844946</td>\n",
              "      <td>-0.712691</td>\n",
              "      <td>-0.758655</td>\n",
              "      <td>-0.560524</td>\n",
              "      <td>-0.205720</td>\n",
              "      <td>-0.650853</td>\n",
              "      <td>-0.529355</td>\n",
              "      <td>-0.741371</td>\n",
              "      <td>-0.424174</td>\n",
              "      <td>-0.652643</td>\n",
              "      <td>-0.414428</td>\n",
              "      <td>-0.572098</td>\n",
              "      <td>-0.472869</td>\n",
              "      <td>-0.474149</td>\n",
              "      <td>-0.505931</td>\n",
              "      <td>-0.464154</td>\n",
              "      <td>-0.209630</td>\n",
              "      <td>-0.226287</td>\n",
              "      <td>-0.537392</td>\n",
              "      <td>-0.163486</td>\n",
              "      <td>-0.351404</td>\n",
              "      <td>-0.303702</td>\n",
              "      <td>-0.328114</td>\n",
              "      <td>-0.070758</td>\n",
              "      <td>-0.051728</td>\n",
              "      <td>5.99000</td>\n",
              "      <td>0.000000</td>\n",
              "    </tr>\n",
              "    <tr>\n",
              "      <th>50%</th>\n",
              "      <td>80078.000000</td>\n",
              "      <td>0.014492</td>\n",
              "      <td>0.059404</td>\n",
              "      <td>0.246511</td>\n",
              "      <td>-0.000964</td>\n",
              "      <td>-0.078180</td>\n",
              "      <td>-0.261375</td>\n",
              "      <td>0.028803</td>\n",
              "      <td>0.025170</td>\n",
              "      <td>-0.054950</td>\n",
              "      <td>-0.090166</td>\n",
              "      <td>-0.016599</td>\n",
              "      <td>0.128690</td>\n",
              "      <td>-0.013127</td>\n",
              "      <td>0.054678</td>\n",
              "      <td>0.068984</td>\n",
              "      <td>0.063753</td>\n",
              "      <td>-0.058035</td>\n",
              "      <td>-0.012292</td>\n",
              "      <td>0.000306</td>\n",
              "      <td>-0.059393</td>\n",
              "      <td>-0.029827</td>\n",
              "      <td>0.003855</td>\n",
              "      <td>-0.014787</td>\n",
              "      <td>0.043739</td>\n",
              "      <td>0.035662</td>\n",
              "      <td>-0.055499</td>\n",
              "      <td>0.001647</td>\n",
              "      <td>0.012608</td>\n",
              "      <td>22.75000</td>\n",
              "      <td>0.000000</td>\n",
              "    </tr>\n",
              "    <tr>\n",
              "      <th>75%</th>\n",
              "      <td>132772.000000</td>\n",
              "      <td>1.288993</td>\n",
              "      <td>0.787219</td>\n",
              "      <td>1.067653</td>\n",
              "      <td>0.770970</td>\n",
              "      <td>0.586539</td>\n",
              "      <td>0.411540</td>\n",
              "      <td>0.557327</td>\n",
              "      <td>0.328017</td>\n",
              "      <td>0.602698</td>\n",
              "      <td>0.459308</td>\n",
              "      <td>0.765963</td>\n",
              "      <td>0.613223</td>\n",
              "      <td>0.667355</td>\n",
              "      <td>0.496980</td>\n",
              "      <td>0.671200</td>\n",
              "      <td>0.526431</td>\n",
              "      <td>0.403733</td>\n",
              "      <td>0.492095</td>\n",
              "      <td>0.462721</td>\n",
              "      <td>0.136608</td>\n",
              "      <td>0.181907</td>\n",
              "      <td>0.513282</td>\n",
              "      <td>0.141504</td>\n",
              "      <td>0.436438</td>\n",
              "      <td>0.358218</td>\n",
              "      <td>0.244920</td>\n",
              "      <td>0.089415</td>\n",
              "      <td>0.077830</td>\n",
              "      <td>79.00000</td>\n",
              "      <td>0.000000</td>\n",
              "    </tr>\n",
              "    <tr>\n",
              "      <th>max</th>\n",
              "      <td>161851.000000</td>\n",
              "      <td>2.454930</td>\n",
              "      <td>22.057729</td>\n",
              "      <td>9.382558</td>\n",
              "      <td>16.875344</td>\n",
              "      <td>34.801666</td>\n",
              "      <td>22.529298</td>\n",
              "      <td>36.877368</td>\n",
              "      <td>20.007208</td>\n",
              "      <td>15.594995</td>\n",
              "      <td>23.745136</td>\n",
              "      <td>12.018913</td>\n",
              "      <td>7.848392</td>\n",
              "      <td>4.569009</td>\n",
              "      <td>10.526766</td>\n",
              "      <td>5.825654</td>\n",
              "      <td>8.289890</td>\n",
              "      <td>9.253526</td>\n",
              "      <td>5.041069</td>\n",
              "      <td>5.591971</td>\n",
              "      <td>39.420904</td>\n",
              "      <td>27.202839</td>\n",
              "      <td>10.503090</td>\n",
              "      <td>22.528412</td>\n",
              "      <td>4.022866</td>\n",
              "      <td>7.519589</td>\n",
              "      <td>3.517346</td>\n",
              "      <td>12.152401</td>\n",
              "      <td>33.847808</td>\n",
              "      <td>19656.53000</td>\n",
              "      <td>1.000000</td>\n",
              "    </tr>\n",
              "  </tbody>\n",
              "</table>\n",
              "</div>"
            ],
            "text/plain": [
              "                Time             V1  ...        Amount          Class\n",
              "count  265360.000000  265360.000000  ...  265359.00000  265359.000000\n",
              "mean    89547.470105      -0.015027  ...      89.79314       0.001809\n",
              "std     44872.212760       1.959484  ...     248.80367       0.042492\n",
              "min         0.000000     -56.407510  ...       0.00000       0.000000\n",
              "25%     52001.000000      -0.926028  ...       5.99000       0.000000\n",
              "50%     80078.000000       0.014492  ...      22.75000       0.000000\n",
              "75%    132772.000000       1.288993  ...      79.00000       0.000000\n",
              "max    161851.000000       2.454930  ...   19656.53000       1.000000\n",
              "\n",
              "[8 rows x 31 columns]"
            ]
          },
          "metadata": {},
          "execution_count": 5
        }
      ]
    },
    {
      "cell_type": "code",
      "metadata": {
        "colab": {
          "base_uri": "https://localhost:8080/"
        },
        "id": "y0zs5yMy4XlY",
        "outputId": "2efce178-b562-41b6-f17a-4e1f953b0e7c"
      },
      "source": [
        "df.isna().sum()"
      ],
      "execution_count": null,
      "outputs": [
        {
          "output_type": "execute_result",
          "data": {
            "text/plain": [
              "Time      0\n",
              "V1        0\n",
              "V2        0\n",
              "V3        0\n",
              "V4        0\n",
              "V5        1\n",
              "V6        1\n",
              "V7        1\n",
              "V8        1\n",
              "V9        1\n",
              "V10       1\n",
              "V11       1\n",
              "V12       1\n",
              "V13       1\n",
              "V14       1\n",
              "V15       1\n",
              "V16       1\n",
              "V17       1\n",
              "V18       1\n",
              "V19       1\n",
              "V20       1\n",
              "V21       1\n",
              "V22       1\n",
              "V23       1\n",
              "V24       1\n",
              "V25       1\n",
              "V26       1\n",
              "V27       1\n",
              "V28       1\n",
              "Amount    1\n",
              "Class     1\n",
              "dtype: int64"
            ]
          },
          "metadata": {},
          "execution_count": 6
        }
      ]
    },
    {
      "cell_type": "code",
      "metadata": {
        "id": "U42Dai3W4baL"
      },
      "source": [
        "df=df.dropna()"
      ],
      "execution_count": null,
      "outputs": []
    },
    {
      "cell_type": "code",
      "metadata": {
        "id": "fHDP6F_04hj_"
      },
      "source": [
        "x=df.drop(\"Class\",axis=1)"
      ],
      "execution_count": null,
      "outputs": []
    },
    {
      "cell_type": "code",
      "metadata": {
        "id": "jTaQnKMw6bWw"
      },
      "source": [
        "y=df[\"Class\"]"
      ],
      "execution_count": null,
      "outputs": []
    },
    {
      "cell_type": "code",
      "metadata": {
        "id": "ZFadXXBE7GK4"
      },
      "source": [
        "pc=PCA(n_components=2,random_state=1)"
      ],
      "execution_count": null,
      "outputs": []
    },
    {
      "cell_type": "code",
      "metadata": {
        "id": "F6bSfudn8OCG"
      },
      "source": [
        "components=pc.fit_transform(x,y)"
      ],
      "execution_count": null,
      "outputs": []
    },
    {
      "cell_type": "code",
      "metadata": {
        "id": "OYW9joPD8Va0"
      },
      "source": [
        "pc1 = components[:,0]\n",
        "pc2 = components[:,1]"
      ],
      "execution_count": null,
      "outputs": []
    },
    {
      "cell_type": "code",
      "metadata": {
        "colab": {
          "base_uri": "https://localhost:8080/",
          "height": 335
        },
        "id": "0SZsYIZxFxKY",
        "outputId": "6f5521b5-0fba-443d-bca6-dbffbb744171"
      },
      "source": [
        "sns.scatterplot(pc1,pc2,hue=y)"
      ],
      "execution_count": null,
      "outputs": [
        {
          "output_type": "stream",
          "name": "stderr",
          "text": [
            "/usr/local/lib/python3.7/dist-packages/seaborn/_decorators.py:43: FutureWarning: Pass the following variables as keyword args: x, y. From version 0.12, the only valid positional argument will be `data`, and passing other arguments without an explicit keyword will result in an error or misinterpretation.\n",
            "  FutureWarning\n"
          ]
        },
        {
          "output_type": "execute_result",
          "data": {
            "text/plain": [
              "<matplotlib.axes._subplots.AxesSubplot at 0x7f8b77bb65d0>"
            ]
          },
          "metadata": {},
          "execution_count": 13
        },
        {
          "output_type": "display_data",
          "data": {
            "image/png": "[encoded data removed]",
            "text/plain": [
              "<Figure size 432x288 with 1 Axes>"
            ]
          },
          "metadata": {
            "needs_background": "light"
          }
        }
      ]
    },
    {
      "cell_type": "code",
      "metadata": {
        "id": "qI82rHyZFz_c"
      },
      "source": [
        "xtrain,xtest,ytrain,ytest=train_test_split(x,y,test_size=0.2, random_state=1)"
      ],
      "execution_count": null,
      "outputs": []
    },
    {
      "cell_type": "code",
      "metadata": {
        "id": "-5PGG0-xGR2r"
      },
      "source": [
        "ss=StandardScaler()\n",
        "xtrain_ss=ss.fit_transform(xtrain)\n",
        "xtest_ss=ss.fit_transform(xtest)"
      ],
      "execution_count": null,
      "outputs": []
    },
    {
      "cell_type": "code",
      "metadata": {
        "colab": {
          "base_uri": "https://localhost:8080/"
        },
        "id": "nsGaIqQWG04C",
        "outputId": "6c18b986-627f-4413-9895-1e84360f93c1"
      },
      "source": [
        "!pip install imblearn\n",
        "from imblearn.under_sampling import RandomUnderSampler\n",
        "rus = RandomUnderSampler(random_state=1)\n",
        "xsample, ysample = rus.fit_resample(xtrain_ss, ytrain)\n",
        "pd.Series(ysample).value_counts()"
      ],
      "execution_count": null,
      "outputs": [
        {
          "output_type": "stream",
          "name": "stdout",
          "text": [
            "Requirement already satisfied: imblearn in /usr/local/lib/python3.7/dist-packages (0.0)\n",
            "Requirement already satisfied: imbalanced-learn in /usr/local/lib/python3.7/dist-packages (from imblearn) (0.4.3)\n",
            "Requirement already satisfied: numpy>=1.8.2 in /usr/local/lib/python3.7/dist-packages (from imbalanced-learn->imblearn) (1.19.5)\n",
            "Requirement already satisfied: scikit-learn>=0.20 in /usr/local/lib/python3.7/dist-packages (from imbalanced-learn->imblearn) (0.22.2.post1)\n",
            "Requirement already satisfied: scipy>=0.13.3 in /usr/local/lib/python3.7/dist-packages (from imbalanced-learn->imblearn) (1.4.1)\n",
            "Requirement already satisfied: joblib>=0.11 in /usr/local/lib/python3.7/dist-packages (from scikit-learn>=0.20->imbalanced-learn->imblearn) (1.0.1)\n"
          ]
        },
        {
          "output_type": "stream",
          "name": "stderr",
          "text": [
            "/usr/local/lib/python3.7/dist-packages/sklearn/utils/deprecation.py:87: FutureWarning: Function safe_indexing is deprecated; safe_indexing is deprecated in version 0.22 and will be removed in version 0.24.\n",
            "  warnings.warn(msg, category=FutureWarning)\n"
          ]
        },
        {
          "output_type": "execute_result",
          "data": {
            "text/plain": [
              "1.0    394\n",
              "0.0    394\n",
              "dtype: int64"
            ]
          },
          "metadata": {},
          "execution_count": 18
        }
      ]
    },
    {
      "cell_type": "code",
      "metadata": {
        "colab": {
          "base_uri": "https://localhost:8080/"
        },
        "id": "YEpdONUgHkOC",
        "outputId": "1058a503-df1c-42a0-de70-0294bccbd2bc"
      },
      "source": [
        "xtrain_ss.shape"
      ],
      "execution_count": null,
      "outputs": [
        {
          "output_type": "execute_result",
          "data": {
            "text/plain": [
              "(212287, 30)"
            ]
          },
          "metadata": {},
          "execution_count": 20
        }
      ]
    },
    {
      "cell_type": "code",
      "metadata": {
        "id": "ccWqWXcmH417"
      },
      "source": [
        "model = Sequential()\n",
        "model.add(Dense(32, input_dim=30, activation=\"relu\"))\n",
        "model.add(Dense(32,activation=\"relu\"))\n",
        "model.add(Dense(32,activation=\"relu\"))\n",
        "model.add(Dense(32,activation=\"relu\"))\n",
        "model.add(Dense(1,activation=\"sigmoid\"))"
      ],
      "execution_count": null,
      "outputs": []
    },
    {
      "cell_type": "code",
      "metadata": {
        "id": "8l-D3ihkICtx"
      },
      "source": [
        "model.compile(optimizer=\"adam\",loss=\"binary_crossentropy\")"
      ],
      "execution_count": null,
      "outputs": []
    },
    {
      "cell_type": "code",
      "metadata": {
        "colab": {
          "base_uri": "https://localhost:8080/"
        },
        "id": "8M6zuYwoIGgt",
        "outputId": "e5f6b275-811a-426e-ba55-96876b5ef4b4"
      },
      "source": [
        "trained_model = model.fit(xsample,ysample,epochs=20,batch_size=64)"
      ],
      "execution_count": null,
      "outputs": [
        {
          "output_type": "stream",
          "name": "stdout",
          "text": [
            "Epoch 1/20\n",
            "13/13 [==============================] - 1s 2ms/step - loss: 0.8752\n",
            "Epoch 2/20\n",
            "13/13 [==============================] - 0s 2ms/step - loss: 0.5875\n",
            "Epoch 3/20\n",
            "13/13 [==============================] - 0s 2ms/step - loss: 0.4525\n",
            "Epoch 4/20\n",
            "13/13 [==============================] - 0s 3ms/step - loss: 0.3396\n",
            "Epoch 5/20\n",
            "13/13 [==============================] - 0s 2ms/step - loss: 0.2637\n",
            "Epoch 6/20\n",
            "13/13 [==============================] - 0s 3ms/step - loss: 0.2204\n",
            "Epoch 7/20\n",
            "13/13 [==============================] - 0s 3ms/step - loss: 0.1945\n",
            "Epoch 8/20\n",
            "13/13 [==============================] - 0s 3ms/step - loss: 0.1796\n",
            "Epoch 9/20\n",
            "13/13 [==============================] - 0s 3ms/step - loss: 0.1636\n",
            "Epoch 10/20\n",
            "13/13 [==============================] - 0s 3ms/step - loss: 0.1520\n",
            "Epoch 11/20\n",
            "13/13 [==============================] - 0s 3ms/step - loss: 0.1426\n",
            "Epoch 12/20\n",
            "13/13 [==============================] - 0s 3ms/step - loss: 0.1334\n",
            "Epoch 13/20\n",
            "13/13 [==============================] - 0s 3ms/step - loss: 0.1245\n",
            "Epoch 14/20\n",
            "13/13 [==============================] - 0s 5ms/step - loss: 0.1158\n",
            "Epoch 15/20\n",
            "13/13 [==============================] - 0s 4ms/step - loss: 0.1075\n",
            "Epoch 16/20\n",
            "13/13 [==============================] - 0s 3ms/step - loss: 0.1005\n",
            "Epoch 17/20\n",
            "13/13 [==============================] - 0s 3ms/step - loss: 0.0928\n",
            "Epoch 18/20\n",
            "13/13 [==============================] - 0s 3ms/step - loss: 0.0870\n",
            "Epoch 19/20\n",
            "13/13 [==============================] - 0s 3ms/step - loss: 0.0809\n",
            "Epoch 20/20\n",
            "13/13 [==============================] - 0s 3ms/step - loss: 0.0789\n"
          ]
        }
      ]
    },
    {
      "cell_type": "code",
      "metadata": {
        "colab": {
          "base_uri": "https://localhost:8080/",
          "height": 283
        },
        "id": "-xBa-ibtIJG0",
        "outputId": "483719b7-d235-4e6e-b3ac-11b5ddae660a"
      },
      "source": [
        "plt.plot(trained_model.history['loss'])"
      ],
      "execution_count": null,
      "outputs": [
        {
          "output_type": "execute_result",
          "data": {
            "text/plain": [
              "[<matplotlib.lines.Line2D at 0x7f8b0f0e2910>]"
            ]
          },
          "metadata": {},
          "execution_count": 24
        },
        {
          "output_type": "display_data",
          "data": {
            "image/png": "[encoded data removed]",
            "text/plain": [
              "<Figure size 432x288 with 1 Axes>"
            ]
          },
          "metadata": {
            "needs_background": "light"
          }
        }
      ]
    },
    {
      "cell_type": "code",
      "metadata": {
        "id": "i_jYXrumIOD4"
      },
      "source": [
        "ypred = model.predict(xtest)"
      ],
      "execution_count": null,
      "outputs": []
    },
    {
      "cell_type": "code",
      "metadata": {
        "id": "8beiwndcIQ8z"
      },
      "source": [
        "ypred = np.where(ypred >= 0.5,1,0)"
      ],
      "execution_count": null,
      "outputs": []
    },
    {
      "cell_type": "code",
      "metadata": {
        "id": "u9-5dlA5ITVd",
        "colab": {
          "base_uri": "https://localhost:8080/"
        },
        "outputId": "70332bf5-540b-49db-8ddb-3733e422afbe"
      },
      "source": [
        "from sklearn.metrics import classification_report\n",
        "print(classification_report(ytest,ypred))"
      ],
      "execution_count": null,
      "outputs": [
        {
          "output_type": "stream",
          "name": "stdout",
          "text": [
            "              precision    recall  f1-score   support\n",
            "\n",
            "         0.0       1.00      1.00      1.00     52986\n",
            "         1.0       0.00      0.00      0.00        86\n",
            "\n",
            "    accuracy                           1.00     53072\n",
            "   macro avg       0.50      0.50      0.50     53072\n",
            "weighted avg       1.00      1.00      1.00     53072\n",
            "\n"
          ]
        }
      ]
    },
    {
      "cell_type": "code",
      "metadata": {
        "id": "q1_Dp-xVIWBd"
      },
      "source": [
        ""
      ],
      "execution_count": null,
      "outputs": []
    }
  ]
}